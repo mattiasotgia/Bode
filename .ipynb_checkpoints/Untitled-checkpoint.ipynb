{
 "cells": [
  {
   "cell_type": "code",
   "execution_count": 1,
   "id": "8337be57-e16a-4edf-b6b8-6c22cd551ad3",
   "metadata": {},
   "outputs": [],
   "source": [
    "//%jsroot on\n",
    "gInterpreter->AddIncludePath(\"/usr/local/include\");\n",
    "gSystem->Load(\"/usr/local/lib/libErrorAnalysis\");\n",
    "gSystem->Load(\"/usr/local/lib/libBode\");\n"
   ]
  },
  {
   "cell_type": "code",
   "execution_count": 2,
   "id": "92afa60e-ec84-445e-8b81-978fdfeaf0da",
   "metadata": {},
   "outputs": [],
   "source": [
    "#include<Bode/Analysis.h>"
   ]
  },
  {
   "cell_type": "code",
   "execution_count": 3,
   "id": "f49efc13-6410-4e2d-b1bf-b17296479547",
   "metadata": {},
   "outputs": [],
   "source": [
    "Bode test(\"lowpass\", \"test.txt\");"
   ]
  },
  {
   "cell_type": "code",
   "execution_count": null,
   "id": "657d191f-9f23-4a9d-ba80-906aa2277698",
   "metadata": {},
   "outputs": [],
   "source": [
    "test.Plot();"
   ]
  },
  {
   "cell_type": "code",
   "execution_count": null,
   "id": "f58571ee-991a-4a94-b812-27b673beca16",
   "metadata": {},
   "outputs": [],
   "source": []
  },
  {
   "cell_type": "code",
   "execution_count": null,
   "id": "3133167a-cc0d-471f-8df2-af37b7d19122",
   "metadata": {},
   "outputs": [],
   "source": []
  }
 ],
 "metadata": {
  "kernelspec": {
   "display_name": "ROOT C++",
   "language": "c++",
   "name": "root"
  },
  "language_info": {
   "codemirror_mode": "text/x-c++src",
   "file_extension": ".C",
   "mimetype": " text/x-c++src",
   "name": "c++"
  }
 },
 "nbformat": 4,
 "nbformat_minor": 5
}
